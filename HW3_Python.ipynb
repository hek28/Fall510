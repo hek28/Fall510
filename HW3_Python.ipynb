{
 "cells": [
  {
   "cell_type": "markdown",
   "metadata": {},
   "source": [
    "# Harrison Katz "
   ]
  },
  {
   "cell_type": "markdown",
   "metadata": {},
   "source": [
    "SW: overall, very good. be careful about Boolean values vs strings. and make sure that you test your functions, especially with all the obvious cases (not just one of them)."
   ]
  },
  {
   "cell_type": "markdown",
   "metadata": {},
   "source": [
    "# Assignment 3"
   ]
  },
  {
   "cell_type": "markdown",
   "metadata": {},
   "source": [
    "# 1"
   ]
  },
  {
   "cell_type": "code",
   "execution_count": 3,
   "metadata": {
    "collapsed": false
   },
   "outputs": [
    {
     "name": "stdout",
     "output_type": "stream",
     "text": [
      "****\n",
      "***\n",
      "**\n",
      "*\n",
      "************\n",
      "**\n"
     ]
    }
   ],
   "source": [
    "def histogram(list_of_numbers):\n",
    "    \"\"\"This is a function denoted histo that produces a 'histogram' based off of a designated list of numbers\n",
    "    Parameters:\n",
    "    list_of_numbers= list of integers\"\"\"\n",
    "    for x in list_of_numbers: #For each number in our list of numbers that are greater than or equal to zero, I have python print the number*'*'\n",
    "        if x>=0:\n",
    "            print(x*'*')\n",
    "            list_of_numbers.pop(0) #then, I have python remove the 0th entry using the pop function\n",
    "            return histogram(list_of_numbers) #finally, I call upon the function again with the return command and our newly edited list of numbers\n",
    "        else: # this is my attempt at defensive coding which tells python what to do if the number in the list isn't greater than or equal to zero \n",
    "            list_of_numbers.pop(0) #I just use the pop function to remove the troublesome item and then the return command to call upon the function again\n",
    "            return histogram(list_of_numbers)\n",
    "histogram([4,3,2,1,12,-9,-3,2])\n",
    "\n",
    "# SW: excellent."
   ]
  },
  {
   "cell_type": "markdown",
   "metadata": {},
   "source": [
    "# 2"
   ]
  },
  {
   "cell_type": "code",
   "execution_count": 8,
   "metadata": {
    "collapsed": false
   },
   "outputs": [
    {
     "data": {
      "text/plain": [
       "[-1]"
      ]
     },
     "execution_count": 8,
     "metadata": {},
     "output_type": "execute_result"
    }
   ],
   "source": [
    "def max_in_list(list_of_n):\n",
    "    \"\"\"This is a function called maxoflist which gives us the max element of an arbitrarily long (but still finite) list of numbers\n",
    "    Parameters:\n",
    "    list_of_n=list of numbers (integer, float)\"\"\"\n",
    "    n=len(list_of_n)#I start by defining n to be the length of the total list\n",
    "    if n>1: #then, while the length is greater than 1, I compare the 0th entry with the n-1 entry to see which is larger\n",
    "        if list_of_n[0]<= list_of_n[n-1]: #using the if command and the pop function, I have python remove the 0th entry if it is less than or equal to the n-1 entry \n",
    "            list_of_n.pop(0)\n",
    "        else: #otherwise, I remove the n-1 entry\n",
    "            list_of_n.pop(n-1)\n",
    "        return max_in_list(list_of_n)#I then use the return command ot call on the function again with our newly edited list  \n",
    "    else:#when n is no longer greater than 1, I print the result\n",
    "        return list_of_n\n",
    "max_in_list([2,3,4,5,6,10,9,1])\n",
    "\n",
    "# SW: this is fine, but your return type is more complicated (a list) than it needs to be (a scalar). in general, you\n",
    "#     want the simplest return type that accommodates the necessary complexity."
   ]
  },
  {
   "cell_type": "markdown",
   "metadata": {},
   "source": [
    "# 3"
   ]
  },
  {
   "cell_type": "code",
   "execution_count": 12,
   "metadata": {
    "collapsed": false
   },
   "outputs": [
    {
     "data": {
      "text/plain": [
       "[1, 3]"
      ]
     },
     "execution_count": 12,
     "metadata": {},
     "output_type": "execute_result"
    }
   ],
   "source": [
    "def mapping(l1):\n",
    "    \"\"\"This is a function called mapping which takes a list and produces a new list with each entry being the corresponding lengths of the first list\n",
    "    Parameters:\n",
    "    l1=list\"\"\"\n",
    "    n1=[0] #I start by defining our new list n1 and giving it 0 as the first entry\n",
    "    while len(l1)>=1: #then, while the length of our original list is greater than or equal to 1, I assign the variable x to the length of the 0th entry of our original list\n",
    "        x=len(l1[0])\n",
    "        n1.append(x) #here I add x (which equals the length of the 0th entry) to our new list\n",
    "        l1.pop(0)#and then I use the pop function on our original list to get rid of the 0th entry\n",
    "    else:\n",
    "        n1.pop(0)#then, when the length of our original list is 0, i remove the first element from our numbered list (which i had put as a zero) and print the results\n",
    "        return n1\n",
    "mapping(['funny','cool','cats','what an interesting function'])        \n",
    "\n",
    "# SW: good, very clean code."
   ]
  },
  {
   "cell_type": "markdown",
   "metadata": {},
   "source": [
    "# 4"
   ]
  },
  {
   "cell_type": "code",
   "execution_count": 1,
   "metadata": {
    "collapsed": false
   },
   "outputs": [
    {
     "data": {
      "text/plain": [
       "36"
      ]
     },
     "execution_count": 1,
     "metadata": {},
     "output_type": "execute_result"
    }
   ],
   "source": [
    "def find_longest_word(list1):\n",
    "    \"\"\"this is a function that takes a list of words and returns the longest one\n",
    "    Parameters:\n",
    "    list1=list\"\"\"\n",
    "    n=len(list1)#first i define the length of the list to the variable n\n",
    "    if n>1: #then if the length of n>1 (i.e. there's more than one word in our list) I have python start comparing the lengths of the first and last entries in our list\n",
    "        #and removing the entry with the smaller length (I remove the 0th entry if it has equal length to the n-1 entry as well)\n",
    "        if len(list1[0])<=len(list1[n-1]):\n",
    "            list1.pop(0)\n",
    "        else:\n",
    "            list1.pop(n-1)\n",
    "        return find_longest_word(list1) #I then use the return command to call upon the function again after the smaller (or equal) of the two elements has been removed\n",
    "    else: #when we only have one word left in the list, I print the result \n",
    "        m=len(list1[0])\n",
    "        return m\n",
    "find_longest_word(['kjfkldsahfkjsadfhksadjflksdjklfsjlfk','funny','group','ssdjfklasjdkljdsaklf','thinking','for','not so much'])\n",
    "\n",
    "# SW: lost points: you were to return the LENGTH of the longest word, not the word itself."
   ]
  },
  {
   "cell_type": "markdown",
   "metadata": {},
   "source": [
    "# 5"
   ]
  },
  {
   "cell_type": "code",
   "execution_count": 17,
   "metadata": {
    "collapsed": false
   },
   "outputs": [
    {
     "data": {
      "text/plain": [
       "['piggy', 'friendly', 'qweuiou']"
      ]
     },
     "execution_count": 17,
     "metadata": {},
     "output_type": "execute_result"
    }
   ],
   "source": [
    "def filter_long_words(list_of_words,n):\n",
    "    \"\"\"this is a function denoted filer_long_words which takes a list of words and an integer and returns a list of the words that are longer than the integer\n",
    "    Parameters:\n",
    "    list_of_words=list\n",
    "    n=integer\"\"\"\n",
    "    for x in list_of_words:#I did this one by having python take the length of each word in our list and using the if command, for those with length less than our integer n\n",
    "        #i used the .remove command to remove said word from our list\n",
    "        if len(x)<=n:\n",
    "            list_of_words.remove(x)\n",
    "            return filter_long_words(list_of_words,n) #this calls the function again which repeats the process until all words that have length less than n are removed\n",
    "    return list_of_words\n",
    "filter_long_words(['cat','dog','piggy','fun','friendly','qweuiou'],4)"
   ]
  },
  {
   "cell_type": "markdown",
   "metadata": {},
   "source": [
    "# 6"
   ]
  },
  {
   "cell_type": "code",
   "execution_count": 25,
   "metadata": {
    "collapsed": false
   },
   "outputs": [
    {
     "name": "stdout",
     "output_type": "stream",
     "text": [
      "False\n"
     ]
    }
   ],
   "source": [
    "def palindrome2(string):\n",
    "    \"\"\"This is a function called palindrome2 that tells us whether a given string is a palindrome sans spacing, punctuation, or capitalization\n",
    "    Parameters:\n",
    "    String= String of characters\"\"\"\n",
    "    alphabet=['a','b','c','d','e','f','g','h','i','j','k','l','m','n','o','p','q','r','s','t','u','v','w','x','y','z']\n",
    "    string=string.lower() #here we are turning all of the letters in our string to lowercase ones\n",
    "    string=list(string) #here we are turning out string into a list using the list function \n",
    "    y=[s for s in string if s in alphabet] #here we are defining y to be a new list consisting only of the characters in our string that are also in alphabet \n",
    "    z=(y[::-1]) #here we are creating a new list denoted z which is the reverse of y\n",
    "    if z==y:\n",
    "        return 'true'\n",
    "    else:\n",
    "        return 'false'\n",
    "        #then, if z is equal to y, we print true\n",
    "    \n",
    "palindrome2('Was it a rat I saw?')\n",
    "\n",
    "# SW: you probably want to return the Boolean values True/False rather than the strings 'true'/'false', see what I \n",
    "#     mean below.\n",
    "print('true' == True)"
   ]
  },
  {
   "cell_type": "markdown",
   "metadata": {
    "collapsed": true
   },
   "source": [
    "# 7"
   ]
  },
  {
   "cell_type": "code",
   "execution_count": 27,
   "metadata": {
    "collapsed": false
   },
   "outputs": [
    {
     "data": {
      "text/plain": [
       "'true'"
      ]
     },
     "execution_count": 27,
     "metadata": {},
     "output_type": "execute_result"
    }
   ],
   "source": [
    "def pangram(str):\n",
    "    \"\"\"This is a function named pangram that tells us whether or not a string of characters contains every letter in the alphabet.\n",
    "    Parameters:\n",
    "    Str=String\"\"\"\n",
    "    x=str.lower() #here i'm using the lower function to transform all the letters in our string to lower case ones\n",
    "    y=set(list(x)) #here i'm using the set and list functions to first turn out string into a list so that we can look at each seperate character as an entry in a list\n",
    "    #and then the set function to get rid of duplicate letters\n",
    "    alphabet=['a','b','c','d','e','f','g','h','i','j','k','l','m','n','o','p','q','r','s','t','u','v','w','x','y','z']\n",
    "    if set(alphabet).intersection(y)==set(alphabet): #I then take the intersection of the set alphabet with our variable y and print \"true\" if the intersection of the two sets is equal to our set alphabet and 'false' otherwise\n",
    "        return 'true'\n",
    "    else:\n",
    "        return 'false'\n",
    "pangram('testing is hard c a bqwertyuiopasdfghjklzxmnbvc')\n",
    "\n",
    "# SW: as above, you probably want to return Boolean value rather than strings."
   ]
  },
  {
   "cell_type": "markdown",
   "metadata": {},
   "source": [
    "# 8"
   ]
  },
  {
   "cell_type": "code",
   "execution_count": 26,
   "metadata": {
    "collapsed": false
   },
   "outputs": [
    {
     "name": "stdout",
     "output_type": "stream",
     "text": [
      "99 bottles of coke on the wall, 99 bottles of coke!\n",
      "Take one down, pass it around 98 bottles of coke on the wall\n",
      "98 bottles of coke on the wall, 98 bottles of coke!\n",
      "Take one down, pass it around 97 bottles of coke on the wall\n",
      "97 bottles of coke on the wall, 97 bottles of coke!\n",
      "Take one down, pass it around 96 bottles of coke on the wall\n",
      "96 bottles of coke on the wall, 96 bottles of coke!\n",
      "Take one down, pass it around 95 bottles of coke on the wall\n",
      "95 bottles of coke on the wall, 95 bottles of coke!\n",
      "Take one down, pass it around 94 bottles of coke on the wall\n",
      "94 bottles of coke on the wall, 94 bottles of coke!\n",
      "Take one down, pass it around 93 bottles of coke on the wall\n",
      "93 bottles of coke on the wall, 93 bottles of coke!\n",
      "Take one down, pass it around 92 bottles of coke on the wall\n",
      "92 bottles of coke on the wall, 92 bottles of coke!\n",
      "Take one down, pass it around 91 bottles of coke on the wall\n",
      "91 bottles of coke on the wall, 91 bottles of coke!\n",
      "Take one down, pass it around 90 bottles of coke on the wall\n",
      "90 bottles of coke on the wall, 90 bottles of coke!\n",
      "Take one down, pass it around 89 bottles of coke on the wall\n",
      "89 bottles of coke on the wall, 89 bottles of coke!\n",
      "Take one down, pass it around 88 bottles of coke on the wall\n",
      "88 bottles of coke on the wall, 88 bottles of coke!\n",
      "Take one down, pass it around 87 bottles of coke on the wall\n",
      "87 bottles of coke on the wall, 87 bottles of coke!\n",
      "Take one down, pass it around 86 bottles of coke on the wall\n",
      "86 bottles of coke on the wall, 86 bottles of coke!\n",
      "Take one down, pass it around 85 bottles of coke on the wall\n",
      "85 bottles of coke on the wall, 85 bottles of coke!\n",
      "Take one down, pass it around 84 bottles of coke on the wall\n",
      "84 bottles of coke on the wall, 84 bottles of coke!\n",
      "Take one down, pass it around 83 bottles of coke on the wall\n",
      "83 bottles of coke on the wall, 83 bottles of coke!\n",
      "Take one down, pass it around 82 bottles of coke on the wall\n",
      "82 bottles of coke on the wall, 82 bottles of coke!\n",
      "Take one down, pass it around 81 bottles of coke on the wall\n",
      "81 bottles of coke on the wall, 81 bottles of coke!\n",
      "Take one down, pass it around 80 bottles of coke on the wall\n",
      "80 bottles of coke on the wall, 80 bottles of coke!\n",
      "Take one down, pass it around 79 bottles of coke on the wall\n",
      "79 bottles of coke on the wall, 79 bottles of coke!\n",
      "Take one down, pass it around 78 bottles of coke on the wall\n",
      "78 bottles of coke on the wall, 78 bottles of coke!\n",
      "Take one down, pass it around 77 bottles of coke on the wall\n",
      "77 bottles of coke on the wall, 77 bottles of coke!\n",
      "Take one down, pass it around 76 bottles of coke on the wall\n",
      "76 bottles of coke on the wall, 76 bottles of coke!\n",
      "Take one down, pass it around 75 bottles of coke on the wall\n",
      "75 bottles of coke on the wall, 75 bottles of coke!\n",
      "Take one down, pass it around 74 bottles of coke on the wall\n",
      "74 bottles of coke on the wall, 74 bottles of coke!\n",
      "Take one down, pass it around 73 bottles of coke on the wall\n",
      "73 bottles of coke on the wall, 73 bottles of coke!\n",
      "Take one down, pass it around 72 bottles of coke on the wall\n",
      "72 bottles of coke on the wall, 72 bottles of coke!\n",
      "Take one down, pass it around 71 bottles of coke on the wall\n",
      "71 bottles of coke on the wall, 71 bottles of coke!\n",
      "Take one down, pass it around 70 bottles of coke on the wall\n",
      "70 bottles of coke on the wall, 70 bottles of coke!\n",
      "Take one down, pass it around 69 bottles of coke on the wall\n",
      "69 bottles of coke on the wall, 69 bottles of coke!\n",
      "Take one down, pass it around 68 bottles of coke on the wall\n",
      "68 bottles of coke on the wall, 68 bottles of coke!\n",
      "Take one down, pass it around 67 bottles of coke on the wall\n",
      "67 bottles of coke on the wall, 67 bottles of coke!\n",
      "Take one down, pass it around 66 bottles of coke on the wall\n",
      "66 bottles of coke on the wall, 66 bottles of coke!\n",
      "Take one down, pass it around 65 bottles of coke on the wall\n",
      "65 bottles of coke on the wall, 65 bottles of coke!\n",
      "Take one down, pass it around 64 bottles of coke on the wall\n",
      "64 bottles of coke on the wall, 64 bottles of coke!\n",
      "Take one down, pass it around 63 bottles of coke on the wall\n",
      "63 bottles of coke on the wall, 63 bottles of coke!\n",
      "Take one down, pass it around 62 bottles of coke on the wall\n",
      "62 bottles of coke on the wall, 62 bottles of coke!\n",
      "Take one down, pass it around 61 bottles of coke on the wall\n",
      "61 bottles of coke on the wall, 61 bottles of coke!\n",
      "Take one down, pass it around 60 bottles of coke on the wall\n",
      "60 bottles of coke on the wall, 60 bottles of coke!\n",
      "Take one down, pass it around 59 bottles of coke on the wall\n",
      "59 bottles of coke on the wall, 59 bottles of coke!\n",
      "Take one down, pass it around 58 bottles of coke on the wall\n",
      "58 bottles of coke on the wall, 58 bottles of coke!\n",
      "Take one down, pass it around 57 bottles of coke on the wall\n",
      "57 bottles of coke on the wall, 57 bottles of coke!\n",
      "Take one down, pass it around 56 bottles of coke on the wall\n",
      "56 bottles of coke on the wall, 56 bottles of coke!\n",
      "Take one down, pass it around 55 bottles of coke on the wall\n",
      "55 bottles of coke on the wall, 55 bottles of coke!\n",
      "Take one down, pass it around 54 bottles of coke on the wall\n",
      "54 bottles of coke on the wall, 54 bottles of coke!\n",
      "Take one down, pass it around 53 bottles of coke on the wall\n",
      "53 bottles of coke on the wall, 53 bottles of coke!\n",
      "Take one down, pass it around 52 bottles of coke on the wall\n",
      "52 bottles of coke on the wall, 52 bottles of coke!\n",
      "Take one down, pass it around 51 bottles of coke on the wall\n",
      "51 bottles of coke on the wall, 51 bottles of coke!\n",
      "Take one down, pass it around 50 bottles of coke on the wall\n",
      "50 bottles of coke on the wall, 50 bottles of coke!\n",
      "Take one down, pass it around 49 bottles of coke on the wall\n",
      "49 bottles of coke on the wall, 49 bottles of coke!\n",
      "Take one down, pass it around 48 bottles of coke on the wall\n",
      "48 bottles of coke on the wall, 48 bottles of coke!\n",
      "Take one down, pass it around 47 bottles of coke on the wall\n",
      "47 bottles of coke on the wall, 47 bottles of coke!\n",
      "Take one down, pass it around 46 bottles of coke on the wall\n",
      "46 bottles of coke on the wall, 46 bottles of coke!\n",
      "Take one down, pass it around 45 bottles of coke on the wall\n",
      "45 bottles of coke on the wall, 45 bottles of coke!\n",
      "Take one down, pass it around 44 bottles of coke on the wall\n",
      "44 bottles of coke on the wall, 44 bottles of coke!\n",
      "Take one down, pass it around 43 bottles of coke on the wall\n",
      "43 bottles of coke on the wall, 43 bottles of coke!\n",
      "Take one down, pass it around 42 bottles of coke on the wall\n",
      "42 bottles of coke on the wall, 42 bottles of coke!\n",
      "Take one down, pass it around 41 bottles of coke on the wall\n",
      "41 bottles of coke on the wall, 41 bottles of coke!\n",
      "Take one down, pass it around 40 bottles of coke on the wall\n",
      "40 bottles of coke on the wall, 40 bottles of coke!\n",
      "Take one down, pass it around 39 bottles of coke on the wall\n",
      "39 bottles of coke on the wall, 39 bottles of coke!\n",
      "Take one down, pass it around 38 bottles of coke on the wall\n",
      "38 bottles of coke on the wall, 38 bottles of coke!\n",
      "Take one down, pass it around 37 bottles of coke on the wall\n",
      "37 bottles of coke on the wall, 37 bottles of coke!\n",
      "Take one down, pass it around 36 bottles of coke on the wall\n",
      "36 bottles of coke on the wall, 36 bottles of coke!\n",
      "Take one down, pass it around 35 bottles of coke on the wall\n",
      "35 bottles of coke on the wall, 35 bottles of coke!\n",
      "Take one down, pass it around 34 bottles of coke on the wall\n",
      "34 bottles of coke on the wall, 34 bottles of coke!\n",
      "Take one down, pass it around 33 bottles of coke on the wall\n",
      "33 bottles of coke on the wall, 33 bottles of coke!\n",
      "Take one down, pass it around 32 bottles of coke on the wall\n",
      "32 bottles of coke on the wall, 32 bottles of coke!\n",
      "Take one down, pass it around 31 bottles of coke on the wall\n",
      "31 bottles of coke on the wall, 31 bottles of coke!\n",
      "Take one down, pass it around 30 bottles of coke on the wall\n",
      "30 bottles of coke on the wall, 30 bottles of coke!\n",
      "Take one down, pass it around 29 bottles of coke on the wall\n",
      "29 bottles of coke on the wall, 29 bottles of coke!\n",
      "Take one down, pass it around 28 bottles of coke on the wall\n",
      "28 bottles of coke on the wall, 28 bottles of coke!\n",
      "Take one down, pass it around 27 bottles of coke on the wall\n",
      "27 bottles of coke on the wall, 27 bottles of coke!\n",
      "Take one down, pass it around 26 bottles of coke on the wall\n",
      "26 bottles of coke on the wall, 26 bottles of coke!\n",
      "Take one down, pass it around 25 bottles of coke on the wall\n",
      "25 bottles of coke on the wall, 25 bottles of coke!\n",
      "Take one down, pass it around 24 bottles of coke on the wall\n",
      "24 bottles of coke on the wall, 24 bottles of coke!\n",
      "Take one down, pass it around 23 bottles of coke on the wall\n",
      "23 bottles of coke on the wall, 23 bottles of coke!\n",
      "Take one down, pass it around 22 bottles of coke on the wall\n",
      "22 bottles of coke on the wall, 22 bottles of coke!\n",
      "Take one down, pass it around 21 bottles of coke on the wall\n",
      "21 bottles of coke on the wall, 21 bottles of coke!\n",
      "Take one down, pass it around 20 bottles of coke on the wall\n",
      "20 bottles of coke on the wall, 20 bottles of coke!\n",
      "Take one down, pass it around 19 bottles of coke on the wall\n",
      "19 bottles of coke on the wall, 19 bottles of coke!\n",
      "Take one down, pass it around 18 bottles of coke on the wall\n",
      "18 bottles of coke on the wall, 18 bottles of coke!\n",
      "Take one down, pass it around 17 bottles of coke on the wall\n",
      "17 bottles of coke on the wall, 17 bottles of coke!\n",
      "Take one down, pass it around 16 bottles of coke on the wall\n",
      "16 bottles of coke on the wall, 16 bottles of coke!\n",
      "Take one down, pass it around 15 bottles of coke on the wall\n",
      "15 bottles of coke on the wall, 15 bottles of coke!\n",
      "Take one down, pass it around 14 bottles of coke on the wall\n",
      "14 bottles of coke on the wall, 14 bottles of coke!\n",
      "Take one down, pass it around 13 bottles of coke on the wall\n",
      "13 bottles of coke on the wall, 13 bottles of coke!\n",
      "Take one down, pass it around 12 bottles of coke on the wall\n",
      "12 bottles of coke on the wall, 12 bottles of coke!\n",
      "Take one down, pass it around 11 bottles of coke on the wall\n",
      "11 bottles of coke on the wall, 11 bottles of coke!\n",
      "Take one down, pass it around 10 bottles of coke on the wall\n",
      "10 bottles of coke on the wall, 10 bottles of coke!\n",
      "Take one down, pass it around 9 bottles of coke on the wall\n",
      "9 bottles of coke on the wall, 9 bottles of coke!\n",
      "Take one down, pass it around 8 bottles of coke on the wall\n",
      "8 bottles of coke on the wall, 8 bottles of coke!\n",
      "Take one down, pass it around 7 bottles of coke on the wall\n",
      "7 bottles of coke on the wall, 7 bottles of coke!\n",
      "Take one down, pass it around 6 bottles of coke on the wall\n",
      "6 bottles of coke on the wall, 6 bottles of coke!\n",
      "Take one down, pass it around 5 bottles of coke on the wall\n",
      "5 bottles of coke on the wall, 5 bottles of coke!\n",
      "Take one down, pass it around 4 bottles of coke on the wall\n",
      "4 bottles of coke on the wall, 4 bottles of coke!\n",
      "Take one down, pass it around 3 bottles of coke on the wall\n",
      "3 bottles of coke on the wall, 3 bottles of coke!\n",
      "Take one down, pass it around 2 bottles of coke on the wall\n",
      "2 bottles of coke on the wall, 2 bottles of coke!\n",
      "Take one down, pass it around 1 bottles of coke on the wall\n",
      "1 bottles of coke on the wall, 1 bottles of coke!\n",
      "Take one down, pass it around 0 bottles of coke on the wall\n"
     ]
    },
    {
     "data": {
      "text/plain": [
       "''"
      ]
     },
     "execution_count": 26,
     "metadata": {},
     "output_type": "execute_result"
    }
   ],
   "source": [
    "\n",
    "def bottlesofcoke(n):\n",
    "    \"\"\"this is a function that takes a number n and returns the lyrics to a song from said value\n",
    "    Parameters:\n",
    "        input:\n",
    "            n=integer\n",
    "        output:\n",
    "            string\"\"\"\n",
    "    while n>0:# i use the while command to specify that while our number is greater than 0\n",
    "        print(n,\"bottles of coke on the wall,\",n, \"bottles of coke!\") #to print the lyrics to the song with the corresponding n value\n",
    "        n=n-1 #I set n=n-1 since the song is a countdown\n",
    "        print(\"Take one down, pass it around\",n,\"bottles of coke on the wall\")\n",
    "        return bottlesofcoke(n) # I use the return command to call upon our function bottlesofcoke with our new value of n (which creates the loop that continues until n=0)\n",
    "    else:\n",
    "        return '' #when n<0, I end the function by printing('')\n",
    "    \n",
    "\n",
    "bottlesofcoke(99)"
   ]
  },
  {
   "cell_type": "markdown",
   "metadata": {},
   "source": [
    "# 9 "
   ]
  },
  {
   "cell_type": "code",
   "execution_count": 28,
   "metadata": {
    "collapsed": false
   },
   "outputs": [
    {
     "data": {
      "text/plain": [
       "'gott nytt ar'"
      ]
     },
     "execution_count": 28,
     "metadata": {},
     "output_type": "execute_result"
    }
   ],
   "source": [
    "\n",
    "def translate(text):\n",
    "    \"\"\"this is a function that translates a select few words from english to swedish\n",
    "    Parameters:\n",
    "        input:\n",
    "            text=string\n",
    "        output\n",
    "            text=string\"\"\"\n",
    "    swedishdictionary={'merry':'god', \"christmas\":\"jul\",'and':'och',\"happy\":\"gott\",\"new\":\"nytt\",\"year\":\"ar\"} #i start by creating a dictionary with the english words I want translated and their corresponding swedish values\n",
    "    for key in swedishdictionary: #I use the for command to specify to python that for a key in our text which is also in the swedish dictionary to use the replace function to replace said key in our string with its value from our dictionary\n",
    "        text=text.replace(key,swedishdictionary[key])\n",
    "    return text #i then use the return command to show our newly edited text\n",
    "\n",
    "translate(\"merry merry christmas to all\")\n",
    "\n",
    "# SW: this is fine, note that the Swedish word for 'year' is 'år', not 'ar' (note diacritical marking)"
   ]
  },
  {
   "cell_type": "markdown",
   "metadata": {},
   "source": [
    "# 10"
   ]
  },
  {
   "cell_type": "code",
   "execution_count": 31,
   "metadata": {
    "collapsed": false
   },
   "outputs": [
    {
     "data": {
      "text/plain": [
       "{' ': 1,\n",
       " ',': 1,\n",
       " 'a': 1,\n",
       " 'b': 1,\n",
       " 'e': 3,\n",
       " 'g': 2,\n",
       " 'i': 1,\n",
       " 'l': 2,\n",
       " 'n': 1,\n",
       " 'o': 3,\n",
       " 'q': 1,\n",
       " 's': 1,\n",
       " 't': 1,\n",
       " 'u': 1}"
      ]
     },
     "execution_count": 31,
     "metadata": {},
     "output_type": "execute_result"
    }
   ],
   "source": [
    "\n",
    "def char_freq(word):\n",
    "    \"\"\"this is a function denoted char_frequency that takes a string and returns the number of times each character is in it\n",
    "    Parameters:\n",
    "        input:\n",
    "            word=string\n",
    "        output:\n",
    "            characterdictionary=dictionary\"\"\"\n",
    "    characterdictionary={}#i start by creating a variable named characterdictionary and defining it to be a dictionary\n",
    "    for char in word: #I then specify that for each character in our string, we add said character to our characterdictionary and give it the value of 0\n",
    "        characterdictionary[char] = 0\n",
    "    for char in word:\n",
    "        characterdictionary[char] += 1 #i then use the for command again to tell python that for each character in our string, to add 1 to the corresponding value of said character in our dictionary\n",
    "    return characterdictionary #I then use the return command to show the values of the completed dictionary\n",
    "char_freq('google, questionable')"
   ]
  },
  {
   "cell_type": "markdown",
   "metadata": {},
   "source": [
    "# 11"
   ]
  },
  {
   "cell_type": "code",
   "execution_count": 33,
   "metadata": {
    "collapsed": false
   },
   "outputs": [
    {
     "name": "stdout",
     "output_type": "stream",
     "text": [
      "Caesar cipher? I much prefer Caesar salad!\n",
      "Pnrfne pvcure? V zhpu cersre Pnrfne fnynq!\n"
     ]
    },
    {
     "ename": "TypeError",
     "evalue": "'NoneType' object is not iterable",
     "output_type": "error",
     "traceback": [
      "\u001b[0;31m---------------------------------------------------------------------------\u001b[0m",
      "\u001b[0;31mTypeError\u001b[0m                                 Traceback (most recent call last)",
      "\u001b[0;32m<ipython-input-33-68b54b919789>\u001b[0m in \u001b[0;36m<module>\u001b[0;34m()\u001b[0m\n\u001b[1;32m     31\u001b[0m \u001b[0;31m# SW: although the instructions did not explicitly say this, you should be returning the encoded/decoded string, not\u001b[0m\u001b[0;34m\u001b[0m\u001b[0;34m\u001b[0m\u001b[0m\n\u001b[1;32m     32\u001b[0m \u001b[0;31m#     merely printing it. for example, the below should work.\u001b[0m\u001b[0;34m\u001b[0m\u001b[0;34m\u001b[0m\u001b[0m\n\u001b[0;32m---> 33\u001b[0;31m \u001b[0mdecoder\u001b[0m\u001b[0;34m(\u001b[0m\u001b[0mdecoder\u001b[0m\u001b[0;34m(\u001b[0m\u001b[0;34m\"Caesar cipher? I much prefer Caesar salad!\"\u001b[0m\u001b[0;34m)\u001b[0m\u001b[0;34m)\u001b[0m\u001b[0;34m\u001b[0m\u001b[0m\n\u001b[0m",
      "\u001b[0;32m<ipython-input-33-68b54b919789>\u001b[0m in \u001b[0;36mdecoder\u001b[0;34m(message)\u001b[0m\n\u001b[1;32m      8\u001b[0m         String\"\"\"\n\u001b[1;32m      9\u001b[0m     \u001b[0mkey\u001b[0m \u001b[0;34m=\u001b[0m \u001b[0;34m{\u001b[0m\u001b[0;34m'a'\u001b[0m\u001b[0;34m:\u001b[0m\u001b[0;34m'n'\u001b[0m\u001b[0;34m,\u001b[0m \u001b[0;34m'b'\u001b[0m\u001b[0;34m:\u001b[0m\u001b[0;34m'o'\u001b[0m\u001b[0;34m,\u001b[0m \u001b[0;34m'c'\u001b[0m\u001b[0;34m:\u001b[0m\u001b[0;34m'p'\u001b[0m\u001b[0;34m,\u001b[0m \u001b[0;34m'd'\u001b[0m\u001b[0;34m:\u001b[0m\u001b[0;34m'q'\u001b[0m\u001b[0;34m,\u001b[0m \u001b[0;34m'e'\u001b[0m\u001b[0;34m:\u001b[0m\u001b[0;34m'r'\u001b[0m\u001b[0;34m,\u001b[0m \u001b[0;34m'f'\u001b[0m\u001b[0;34m:\u001b[0m\u001b[0;34m's'\u001b[0m\u001b[0;34m,\u001b[0m \u001b[0;34m'g'\u001b[0m\u001b[0;34m:\u001b[0m\u001b[0;34m't'\u001b[0m\u001b[0;34m,\u001b[0m \u001b[0;34m'h'\u001b[0m\u001b[0;34m:\u001b[0m\u001b[0;34m'u'\u001b[0m\u001b[0;34m,\u001b[0m \u001b[0;34m'i'\u001b[0m\u001b[0;34m:\u001b[0m\u001b[0;34m'v'\u001b[0m\u001b[0;34m,\u001b[0m \u001b[0;34m'j'\u001b[0m\u001b[0;34m:\u001b[0m\u001b[0;34m'w'\u001b[0m\u001b[0;34m,\u001b[0m \u001b[0;34m'k'\u001b[0m\u001b[0;34m:\u001b[0m\u001b[0;34m'x'\u001b[0m\u001b[0;34m,\u001b[0m \u001b[0;34m'l'\u001b[0m\u001b[0;34m:\u001b[0m\u001b[0;34m'y'\u001b[0m\u001b[0;34m,\u001b[0m \u001b[0;34m'm'\u001b[0m\u001b[0;34m:\u001b[0m\u001b[0;34m'z'\u001b[0m\u001b[0;34m,\u001b[0m \u001b[0;34m'n'\u001b[0m\u001b[0;34m:\u001b[0m\u001b[0;34m'a'\u001b[0m\u001b[0;34m,\u001b[0m \u001b[0;34m'o'\u001b[0m\u001b[0;34m:\u001b[0m\u001b[0;34m'b'\u001b[0m\u001b[0;34m,\u001b[0m \u001b[0;34m'p'\u001b[0m\u001b[0;34m:\u001b[0m\u001b[0;34m'c'\u001b[0m\u001b[0;34m,\u001b[0m \u001b[0;34m'q'\u001b[0m\u001b[0;34m:\u001b[0m\u001b[0;34m'd'\u001b[0m\u001b[0;34m,\u001b[0m \u001b[0;34m'r'\u001b[0m\u001b[0;34m:\u001b[0m\u001b[0;34m'e'\u001b[0m\u001b[0;34m,\u001b[0m \u001b[0;34m's'\u001b[0m\u001b[0;34m:\u001b[0m\u001b[0;34m'f'\u001b[0m\u001b[0;34m,\u001b[0m \u001b[0;34m't'\u001b[0m\u001b[0;34m:\u001b[0m\u001b[0;34m'g'\u001b[0m\u001b[0;34m,\u001b[0m \u001b[0;34m'u'\u001b[0m\u001b[0;34m:\u001b[0m\u001b[0;34m'h'\u001b[0m\u001b[0;34m,\u001b[0m \u001b[0;34m'v'\u001b[0m\u001b[0;34m:\u001b[0m\u001b[0;34m'i'\u001b[0m\u001b[0;34m,\u001b[0m \u001b[0;34m'w'\u001b[0m\u001b[0;34m:\u001b[0m\u001b[0;34m'j'\u001b[0m\u001b[0;34m,\u001b[0m \u001b[0;34m'x'\u001b[0m\u001b[0;34m:\u001b[0m\u001b[0;34m'k'\u001b[0m\u001b[0;34m,\u001b[0m \u001b[0;34m'y'\u001b[0m\u001b[0;34m:\u001b[0m\u001b[0;34m'l'\u001b[0m\u001b[0;34m,\u001b[0m \u001b[0;34m'z'\u001b[0m\u001b[0;34m:\u001b[0m\u001b[0;34m'm'\u001b[0m\u001b[0;34m,\u001b[0m \u001b[0;34m'A'\u001b[0m\u001b[0;34m:\u001b[0m\u001b[0;34m'N'\u001b[0m\u001b[0;34m,\u001b[0m \u001b[0;34m'B'\u001b[0m\u001b[0;34m:\u001b[0m\u001b[0;34m'O'\u001b[0m\u001b[0;34m,\u001b[0m \u001b[0;34m'C'\u001b[0m\u001b[0;34m:\u001b[0m\u001b[0;34m'P'\u001b[0m\u001b[0;34m,\u001b[0m \u001b[0;34m'D'\u001b[0m\u001b[0;34m:\u001b[0m\u001b[0;34m'Q'\u001b[0m\u001b[0;34m,\u001b[0m \u001b[0;34m'E'\u001b[0m\u001b[0;34m:\u001b[0m\u001b[0;34m'R'\u001b[0m\u001b[0;34m,\u001b[0m \u001b[0;34m'F'\u001b[0m\u001b[0;34m:\u001b[0m\u001b[0;34m'S'\u001b[0m\u001b[0;34m,\u001b[0m \u001b[0;34m'G'\u001b[0m\u001b[0;34m:\u001b[0m\u001b[0;34m'T'\u001b[0m\u001b[0;34m,\u001b[0m \u001b[0;34m'H'\u001b[0m\u001b[0;34m:\u001b[0m\u001b[0;34m'U'\u001b[0m\u001b[0;34m,\u001b[0m \u001b[0;34m'I'\u001b[0m\u001b[0;34m:\u001b[0m\u001b[0;34m'V'\u001b[0m\u001b[0;34m,\u001b[0m \u001b[0;34m'J'\u001b[0m\u001b[0;34m:\u001b[0m\u001b[0;34m'W'\u001b[0m\u001b[0;34m,\u001b[0m \u001b[0;34m'K'\u001b[0m\u001b[0;34m:\u001b[0m\u001b[0;34m'X'\u001b[0m\u001b[0;34m,\u001b[0m \u001b[0;34m'L'\u001b[0m\u001b[0;34m:\u001b[0m\u001b[0;34m'Y'\u001b[0m\u001b[0;34m,\u001b[0m \u001b[0;34m'M'\u001b[0m\u001b[0;34m:\u001b[0m\u001b[0;34m'Z'\u001b[0m\u001b[0;34m,\u001b[0m \u001b[0;34m'N'\u001b[0m\u001b[0;34m:\u001b[0m\u001b[0;34m'A'\u001b[0m\u001b[0;34m,\u001b[0m \u001b[0;34m'O'\u001b[0m\u001b[0;34m:\u001b[0m\u001b[0;34m'B'\u001b[0m\u001b[0;34m,\u001b[0m \u001b[0;34m'P'\u001b[0m\u001b[0;34m:\u001b[0m\u001b[0;34m'C'\u001b[0m\u001b[0;34m,\u001b[0m \u001b[0;34m'Q'\u001b[0m\u001b[0;34m:\u001b[0m\u001b[0;34m'D'\u001b[0m\u001b[0;34m,\u001b[0m \u001b[0;34m'R'\u001b[0m\u001b[0;34m:\u001b[0m\u001b[0;34m'E'\u001b[0m\u001b[0;34m,\u001b[0m \u001b[0;34m'S'\u001b[0m\u001b[0;34m:\u001b[0m\u001b[0;34m'F'\u001b[0m\u001b[0;34m,\u001b[0m \u001b[0;34m'T'\u001b[0m\u001b[0;34m:\u001b[0m\u001b[0;34m'G'\u001b[0m\u001b[0;34m,\u001b[0m \u001b[0;34m'U'\u001b[0m\u001b[0;34m:\u001b[0m\u001b[0;34m'H'\u001b[0m\u001b[0;34m,\u001b[0m \u001b[0;34m'V'\u001b[0m\u001b[0;34m:\u001b[0m\u001b[0;34m'I'\u001b[0m\u001b[0;34m,\u001b[0m \u001b[0;34m'W'\u001b[0m\u001b[0;34m:\u001b[0m\u001b[0;34m'J'\u001b[0m\u001b[0;34m,\u001b[0m \u001b[0;34m'X'\u001b[0m\u001b[0;34m:\u001b[0m\u001b[0;34m'K'\u001b[0m\u001b[0;34m,\u001b[0m \u001b[0;34m'Y'\u001b[0m\u001b[0;34m:\u001b[0m\u001b[0;34m'L'\u001b[0m\u001b[0;34m,\u001b[0m \u001b[0;34m'Z'\u001b[0m\u001b[0;34m:\u001b[0m\u001b[0;34m'M'\u001b[0m\u001b[0;34m}\u001b[0m\u001b[0;34m\u001b[0m\u001b[0m\n\u001b[0;32m---> 10\u001b[0;31m     \u001b[0ml\u001b[0m\u001b[0;34m=\u001b[0m\u001b[0mlist\u001b[0m\u001b[0;34m(\u001b[0m\u001b[0mmessage\u001b[0m\u001b[0;34m)\u001b[0m \u001b[0;31m#I start by turning our string into a list so it can be more easily edited (at least more easily for me)\u001b[0m\u001b[0;34m\u001b[0m\u001b[0m\n\u001b[0m\u001b[1;32m     11\u001b[0m     \u001b[0mn\u001b[0m\u001b[0;34m=\u001b[0m\u001b[0mlen\u001b[0m\u001b[0;34m(\u001b[0m\u001b[0ml\u001b[0m\u001b[0;34m)\u001b[0m \u001b[0;31m#I assign the length of our list to the variable n\u001b[0m\u001b[0;34m\u001b[0m\u001b[0m\n\u001b[1;32m     12\u001b[0m     \u001b[0mg\u001b[0m\u001b[0;34m=\u001b[0m\u001b[0;34m[\u001b[0m\u001b[0;34m''\u001b[0m\u001b[0;34m]\u001b[0m \u001b[0;31m#I create a new list which I will put all of the translated letters from our original list in\u001b[0m\u001b[0;34m\u001b[0m\u001b[0m\n",
      "\u001b[0;31mTypeError\u001b[0m: 'NoneType' object is not iterable"
     ]
    }
   ],
   "source": [
    "\n",
    "def decoder(message):\n",
    "    \"\"\"This is a function denoted decoder that translates a string of text using the ROT-13 method\n",
    "    Parameters:\n",
    "        input:\n",
    "            Message=string\n",
    "        output:\n",
    "        String\"\"\"\n",
    "    key = {'a':'n', 'b':'o', 'c':'p', 'd':'q', 'e':'r', 'f':'s', 'g':'t', 'h':'u', 'i':'v', 'j':'w', 'k':'x', 'l':'y', 'm':'z', 'n':'a', 'o':'b', 'p':'c', 'q':'d', 'r':'e', 's':'f', 't':'g', 'u':'h', 'v':'i', 'w':'j', 'x':'k', 'y':'l', 'z':'m', 'A':'N', 'B':'O', 'C':'P', 'D':'Q', 'E':'R', 'F':'S', 'G':'T', 'H':'U', 'I':'V', 'J':'W', 'K':'X', 'L':'Y', 'M':'Z', 'N':'A', 'O':'B', 'P':'C', 'Q':'D', 'R':'E', 'S':'F', 'T':'G', 'U':'H', 'V':'I', 'W':'J', 'X':'K', 'Y':'L', 'Z':'M'}\n",
    "    l=list(message) #I start by turning our string into a list so it can be more easily edited (at least more easily for me)\n",
    "    n=len(l) #I assign the length of our list to the variable n\n",
    "    g=[''] #I create a new list which I will put all of the translated letters from our original list in\n",
    "    m=n-1 #I create a new variable and give it the value of n-1\n",
    "    while m>=0: #while m is greater than or equal to 0 (or n is greater than or equal to one), after defining h to be the first element in our list, I use the if command\n",
    "        # to see if h is in our key. If it is, I set z equal to that value and add z via append function to our new list and then use the pop function to remove the value from our original list\n",
    "        h=l[0]\n",
    "        if h in key:\n",
    "            z=key[l[0]]\n",
    "            g.append(z)\n",
    "            l.pop(0)\n",
    "            m=m-1 #I then define m=m-1 so that way this creates a loop that will run until m=0\n",
    "        else: #I use the else command and append function to add h to our new list if it is not a character defined in our key (this allows me to handle spaces, punctuation, etc)\n",
    "            g.append(h)\n",
    "            l.pop(0) #i then remove said character from the 0th spot in our original list\n",
    "            m=m-1 #and set m=m-1 to loop until m=0\n",
    "    g.pop(0) #i then remove the first element from our new list (which was just an empty space ' ')\n",
    "    print(''.join(g)) #and use the join function to create a string from all the characters in our list\n",
    "\n",
    "decoder('Pnrfne pvcure? V zhpu cersre Pnrfne fnynq!')\n",
    "\n",
    "# SW: although the instructions did not explicitly say this, you should be returning the encoded/decoded string, not\n",
    "#     merely printing it. for example, the below should work.\n",
    "decoder(decoder(\"Caesar cipher? I much prefer Caesar salad!\"))"
   ]
  },
  {
   "cell_type": "markdown",
   "metadata": {},
   "source": [
    "# 12 "
   ]
  },
  {
   "cell_type": "code",
   "execution_count": 37,
   "metadata": {
    "collapsed": false
   },
   "outputs": [
    {
     "data": {
      "text/plain": [
       "'This is very funny and cool. Indeed!'"
      ]
     },
     "execution_count": 37,
     "metadata": {},
     "output_type": "execute_result"
    }
   ],
   "source": [
    "\n",
    "def correct(text):\n",
    "    \"\"\"this is a function denoted correct that edits a select few gramatical errors in a string\n",
    "    Parameters:\n",
    "        input:\n",
    "            text=string\n",
    "        output:\n",
    "            text=string\"\"\"\n",
    "    import re #I start by importing the re module so that I can use the sub function\n",
    "    capital=['Q','W','R','T','P','S','D','F','G','H','J','K','L','Z','X','C','V','B','N','M','A','E','I','O','U','Y'] #since one of the edits I want to correct deals with capital letters, I define my list of capital letters\n",
    "    text=re.sub('[ \\t]+' , ' ', text) #here I use the sub function from the re module to replace any occurences of multiple spaces with a single space and specify that my text is now equal to this new string (consisting of my old string but with the extra spaces removed from it)\n",
    "    for x in capital: #I then specify that for any x in our list of capital letters\n",
    "        text=text.replace('.'+x,'.'+' '+x)# and use the replace function on our text to replace '.''x' with '.'' ''x'\n",
    "    return text #I then print the final result\n",
    "correct('This   is very funny and cool.Indeed!')\n",
    "\n",
    "# SW: good"
   ]
  },
  {
   "cell_type": "markdown",
   "metadata": {},
   "source": [
    "# 13"
   ]
  },
  {
   "cell_type": "code",
   "execution_count": 49,
   "metadata": {
    "collapsed": false
   },
   "outputs": [
    {
     "name": "stdout",
     "output_type": "stream",
     "text": [
      "fixs\n",
      "gos\n"
     ]
    },
    {
     "ename": "IndexError",
     "evalue": "pop index out of range",
     "output_type": "error",
     "traceback": [
      "\u001b[0;31m---------------------------------------------------------------------------\u001b[0m",
      "\u001b[0;31mIndexError\u001b[0m                                Traceback (most recent call last)",
      "\u001b[0;32m<ipython-input-49-235ee1811571>\u001b[0m in \u001b[0;36m<module>\u001b[0;34m()\u001b[0m\n\u001b[1;32m     37\u001b[0m \u001b[0mprint\u001b[0m\u001b[0;34m(\u001b[0m\u001b[0mmake_3sg_form\u001b[0m\u001b[0;34m(\u001b[0m\u001b[0;34m'fix'\u001b[0m\u001b[0;34m)\u001b[0m\u001b[0;34m)\u001b[0m \u001b[0;31m# incorrect\u001b[0m\u001b[0;34m\u001b[0m\u001b[0m\n\u001b[1;32m     38\u001b[0m \u001b[0mprint\u001b[0m\u001b[0;34m(\u001b[0m\u001b[0mmake_3sg_form\u001b[0m\u001b[0;34m(\u001b[0m\u001b[0;34m'go'\u001b[0m\u001b[0;34m)\u001b[0m\u001b[0;34m)\u001b[0m \u001b[0;31m# incorrect\u001b[0m\u001b[0;34m\u001b[0m\u001b[0m\n\u001b[0;32m---> 39\u001b[0;31m \u001b[0mprint\u001b[0m\u001b[0;34m(\u001b[0m\u001b[0mmake_3sg_form\u001b[0m\u001b[0;34m(\u001b[0m\u001b[0;34m'crunch'\u001b[0m\u001b[0;34m)\u001b[0m\u001b[0;34m)\u001b[0m \u001b[0;31m# error\u001b[0m\u001b[0;34m\u001b[0m\u001b[0m\n\u001b[0m\u001b[1;32m     40\u001b[0m \u001b[0mprint\u001b[0m\u001b[0;34m(\u001b[0m\u001b[0mmake_3sg_form\u001b[0m\u001b[0;34m(\u001b[0m\u001b[0;34m'brush'\u001b[0m\u001b[0;34m)\u001b[0m\u001b[0;34m)\u001b[0m \u001b[0;31m# error\u001b[0m\u001b[0;34m\u001b[0m\u001b[0m\n",
      "\u001b[0;32m<ipython-input-49-235ee1811571>\u001b[0m in \u001b[0;36mmake_3sg_form\u001b[0;34m(text)\u001b[0m\n\u001b[1;32m     19\u001b[0m     \u001b[0;32mif\u001b[0m \u001b[0mt\u001b[0m\u001b[0;34m[\u001b[0m\u001b[0mn\u001b[0m\u001b[0;34m-\u001b[0m\u001b[0;36m2\u001b[0m\u001b[0;34m]\u001b[0m\u001b[0;34m==\u001b[0m\u001b[0;34m'c'\u001b[0m \u001b[0;32mand\u001b[0m \u001b[0mt\u001b[0m\u001b[0;34m[\u001b[0m\u001b[0mn\u001b[0m\u001b[0;34m-\u001b[0m\u001b[0;36m1\u001b[0m\u001b[0;34m]\u001b[0m\u001b[0;34m==\u001b[0m\u001b[0;34m'h'\u001b[0m\u001b[0;34m:\u001b[0m \u001b[0;31m#if the second to last item is a 'c' and the last item is a 'h', I remove both from out list using the pop function and add an 'es' to our list using the append function before using the join function to return our new string\u001b[0m\u001b[0;34m\u001b[0m\u001b[0m\n\u001b[1;32m     20\u001b[0m         \u001b[0mt\u001b[0m\u001b[0;34m.\u001b[0m\u001b[0mpop\u001b[0m\u001b[0;34m(\u001b[0m\u001b[0mn\u001b[0m\u001b[0;34m-\u001b[0m\u001b[0;36m1\u001b[0m\u001b[0;34m)\u001b[0m\u001b[0;34m\u001b[0m\u001b[0m\n\u001b[0;32m---> 21\u001b[0;31m         \u001b[0mt\u001b[0m\u001b[0;34m.\u001b[0m\u001b[0mpop\u001b[0m\u001b[0;34m(\u001b[0m\u001b[0mn\u001b[0m\u001b[0;34m-\u001b[0m\u001b[0;36m1\u001b[0m\u001b[0;34m)\u001b[0m\u001b[0;34m\u001b[0m\u001b[0m\n\u001b[0m\u001b[1;32m     22\u001b[0m         \u001b[0mt\u001b[0m\u001b[0;34m.\u001b[0m\u001b[0mappend\u001b[0m\u001b[0;34m(\u001b[0m\u001b[0;34m'es'\u001b[0m\u001b[0;34m)\u001b[0m\u001b[0;34m\u001b[0m\u001b[0m\n\u001b[1;32m     23\u001b[0m         \u001b[0;32mreturn\u001b[0m \u001b[0;34m''\u001b[0m\u001b[0;34m.\u001b[0m\u001b[0mjoin\u001b[0m\u001b[0;34m(\u001b[0m\u001b[0mt\u001b[0m\u001b[0;34m)\u001b[0m\u001b[0;34m\u001b[0m\u001b[0m\n",
      "\u001b[0;31mIndexError\u001b[0m: pop index out of range"
     ]
    }
   ],
   "source": [
    "\n",
    "def make_3sg_form(text):\n",
    "    \"\"\"this is a function denoted make_3gs_form which takes a word in its infinitive form and returns its third person singular form\n",
    "    Parameters:\n",
    "    input:\n",
    "        text=string\n",
    "    output:\n",
    "        text=string\"\"\"\n",
    "    t=list(text)#I start by defining a variable t which equals the list function applied to our string\n",
    "    n=len(t) #i then assign n to be the lengh of our newly created list\n",
    "    if t[n-1]=='y': #if the last item in our list is a y, I use the pop function to remove it from our list, and the append function to add 'ies' to the end of our list \n",
    "        t.pop(n-1)\n",
    "        t.append('ies')\n",
    "        return ''.join(t) #I then use the return command and the join function to turn our list t into a string again\n",
    "    if t[n-1]==['o','s','x','z']: #if the last item in our list is equal to 'o,s,x,z', I perform the same process but add an 'es' before using the join function to return our new string\n",
    "        t.pop(n-1)\n",
    "        t.append('es')\n",
    "        return ''.join(t)\n",
    "    if t[n-2]=='c' and t[n-1]=='h': #if the second to last item is a 'c' and the last item is a 'h', I remove both from out list using the pop function and add an 'es' to our list using the append function before using the join function to return our new string\n",
    "        t.pop(n-1)\n",
    "        t.pop(n-1)\n",
    "        t.append('es')\n",
    "        return ''.join(t)\n",
    "    if t[n-2]=='s' and t[n-1]=='h': #if the second to last item is an 's' and the last item is an 'h', I use the same process to remove both from our list and then add an 'es' before returning our new string via join function\n",
    "        t.pop(n-1)\n",
    "        t.pop(n-1)\n",
    "        t.append('es')\n",
    "        return ''.join(t)\n",
    "    if t[n-1]!='s': #if the last item is not an 's' (and didn't fall into any of the other previous conditions), I use the append function to add an 's' to the end of our list and then turn our list into a new string using the join function\n",
    "        t.append('s')\n",
    "        return ''.join(t)\n",
    "make_3sg_form('fly')\n",
    "\n",
    "# SW: lost points: your function does not correctly handle 'go', 'fix', 'crunch', etc. for 'crunch', you are removing\n",
    "#     the last character, but you don't update the value of n, so when you try to remove the second-to-last\n",
    "#     character, you get a index out of bounds error.\n",
    "print(make_3sg_form('fix')) # incorrect\n",
    "print(make_3sg_form('go')) # incorrect\n",
    "print(make_3sg_form('crunch')) # error\n",
    "print(make_3sg_form('brush')) # error"
   ]
  },
  {
   "cell_type": "markdown",
   "metadata": {},
   "source": [
    "# 14"
   ]
  },
  {
   "cell_type": "code",
   "execution_count": 54,
   "metadata": {
    "collapsed": false
   },
   "outputs": [
    {
     "name": "stdout",
     "output_type": "stream",
     "text": [
      "lying\n",
      "potting\n"
     ]
    }
   ],
   "source": [
    "def make_ing_form(text):\n",
    "    \"\"\"This is a function called 'make_ing_form' which given a verb in its infinite form, returns its present principle form\n",
    "    Parameters:\n",
    "        input:\n",
    "            text=string\n",
    "        output:\n",
    "            text=string\"\"\"\n",
    "    t=list(text) #i start by defining t to be the list of our string (i.e. our string with the list function applied to it)\n",
    "    n=len(text) #and define n to be the length of the text\n",
    "    consonant=['q','w','r','t','p','s','d','f','g','h','j','k','l','z','x','c','v','b','n','m','Q','W','R','T','P','S','D','F','G','H','J','K','L','Z','X','C','V','B','N','M'] #I define a list of consenants\n",
    "    vowel=['a','e','i','o','u','y','A','E','I','O','U','Y'] #I define a list of vowels\n",
    "    x=t[n-3] #here I define x,y,z to be the last three elements of our list\n",
    "    y=t[n-2]\n",
    "    z=t[n-1]\n",
    "    if x in consonant and y in vowel and z in consonant: #I then use the if command to specify that if x is in the list of consonants, y in the list of vowels, and z in the list of consenants then the following commands are to be executed: \n",
    "        t.append(z) #first I add z to our list using the append function(which doubles the consenants)\n",
    "        t.append('ing')#I then add ing to our list using the same function\n",
    "        return ''.join(t) #i then return our list with the join function applied to it which turns out list into a string\n",
    "    if y=='i' and z=='e': #if the second to last item is i and the last item is e, i use the pop function to remove both from the list and the append function to add 'ying' before turning our list back into a string using the join function\n",
    "        t.pop(n-1)\n",
    "        t.pop(n-2)\n",
    "        t.append('ying')\n",
    "        return ''.join(t)\n",
    "    if y=='e' and z=='e': #same as above but if z and y are both e's, I just add 'ing' to the list via append function before turning into string via join\n",
    "        t.append('ing')\n",
    "        return ''.join(t)\n",
    "    if z=='e' and y=='b': #if the word is 'be', I just add 'ing' to list via append before turning back into string\n",
    "        t.append('ing')\n",
    "        return ''.join(t)\n",
    "    if z=='e': #if the last item in our list is e and none of the other conditions were met, I remove said item from our list via pop function and add 'ing' as the last element in our list via append before turning our list into a string via join function\n",
    "        t.pop(n-1)\n",
    "        t.append('ing')\n",
    "        return ''.join(t)\n",
    "    else:\n",
    "        t.append('ing') #if anything else, I just add 'ing' to the end of our list and return a new string using the same process as above\n",
    "        return ''.join(t)\n",
    "make_ing_form('move')\n",
    "make_ing_form('lie')\n",
    "make_ing_form('tie')\n",
    "\n",
    "# SW: very good"
   ]
  },
  {
   "cell_type": "code",
   "execution_count": null,
   "metadata": {
    "collapsed": true
   },
   "outputs": [],
   "source": []
  }
 ],
 "metadata": {
  "kernelspec": {
   "display_name": "Python 3",
   "language": "python",
   "name": "python3"
  },
  "language_info": {
   "codemirror_mode": {
    "name": "ipython",
    "version": 3
   },
   "file_extension": ".py",
   "mimetype": "text/x-python",
   "name": "python",
   "nbconvert_exporter": "python",
   "pygments_lexer": "ipython3",
   "version": "3.4.3"
  }
 },
 "nbformat": 4,
 "nbformat_minor": 0
}
