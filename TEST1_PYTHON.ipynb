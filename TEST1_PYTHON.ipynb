{
 "cells": [
  {
   "cell_type": "code",
   "execution_count": 10,
   "metadata": {
    "collapsed": false
   },
   "outputs": [
    {
     "data": {
      "text/plain": [
       "8.0"
      ]
     },
     "execution_count": 10,
     "metadata": {},
     "output_type": "execute_result"
    }
   ],
   "source": [
    "import math #importing the math module so I can use power and square root functions\n",
    "def polygperim(x):\n",
    "    \"\"\"This is a function denoted polygperim which gives us the perimeter of a n sided polygon.\n",
    "    Parameters:\n",
    "    Input: x: vector of tuples which are composed of the (x,y) coordinates \n",
    "    output: s1: float\"\"\"\n",
    "    x=list(x) #I start by using the list functin to turn our coordinates into a list of coordinates (just in case it was not in list already)\n",
    "    n=len(x) #and define n to be the length of the list\n",
    "    xn1=(x[n-1],) #I define xn1 to be the last element of the list (or the last ordered pair in the list)\n",
    "    xnew=list(xn1) #and define xnew to be a list with only that element\n",
    "    x=x+xnew #I then define x to be our original list of ordered pairs but with xnew added to the end of it(i.e. with a copy of the last ordered pair repeated at the end)\n",
    "    n=len(x) #and redine n to be the length of x\n",
    "    i=n-1 #I then define i to equal n-1\n",
    "    s1=0 #and S to equal 0 (this will be what we return at the end of the function)\n",
    "    while i>=0: #I then use the while command to create a loop that is to take affect while our variable i is greater than or equal to 0\n",
    "        xi=x[i-1] #and define xi to be the second to last tuple in our list\n",
    "        xi1=x[i] #and xi1 to be the last tuple in our list\n",
    "        s2=math.pow(xi1[0]-xi[0],2)+math.pow(xi1[1]-xi[1],2) #I then use the pow function from the math module to take the square of the difference between xi1[0] and xi[0] added to the square of the difference of xi1[1] and xi[1]\n",
    "        #This is equivalent to (x2-x1) squared + (y2-y1) squared\n",
    "        s=math.sqrt(s2)#I then define s to be the square root of s2\n",
    "        s1=s1+s #and s1 to equal s1+s\n",
    "        i=i-1 #finally, I continue the loop by setting i=i-1\n",
    "    else: #when i<0, I return the value of s1\n",
    "        return s1\n",
    "polygperim([(2,0),(1,math.sqrt(3)),(0,0)])\n",
    "polygperim(((0,0),(2,0),(2,2),(0,2)))\n"
   ]
  },
  {
   "cell_type": "code",
   "execution_count": 13,
   "metadata": {
    "collapsed": false
   },
   "outputs": [
    {
     "data": {
      "text/plain": [
       "4.0"
      ]
     },
     "execution_count": 13,
     "metadata": {},
     "output_type": "execute_result"
    }
   ],
   "source": [
    "import math #importing the math module so python recognizes square roots\n",
    "def polygarea(y):\n",
    "    \"\"\"this is a function denoted polygarea which gives us the area of a n sided polygon.\n",
    "    Parameters:\n",
    "    Input: y: vector of tuples which are composed of the (x,y) coordinates\n",
    "    output: s2: float\"\"\"\n",
    "    y=list(y) #I start by using the list function on y to ensure we have a list of tuples\n",
    "    n=len(y) #and define n to be the length of y\n",
    "    yn1=(y[n-1],) #I then define yn1 to be the last item in our list y (the last ordered pair)\n",
    "    ynew=list(yn1)#and use the list function again to define ynew to equal the list containing only that item\n",
    "    y=y+ynew#and redefine y to be y+ynew (so our original list with the last element repeated)\n",
    "    i=0 #I then define i=0 \n",
    "    s1=0 #s1=0\n",
    "    while i<=n-1: #I then use the while command to create a loop that is to take affect while our variable i is less than or equal to n-1\n",
    "        yi=y[i] #and define yi to equal the ith tuple in our list\n",
    "        yi1=y[i+1] #and yi1 to be the ith+1 tuple in our list\n",
    "        s=yi[0]*yi1[1]-yi1[0]*yi[1] #I then define s to equal the product of the first component of yi with the second component of yi1 - \n",
    "        #the first component in yi1 multiplied by the second component in yi\n",
    "        s1=s1+s #I then define s1 to equal s1 (which started at 0)+s\n",
    "        i=i+1 #and add 1 to our i variable to continue the loop\n",
    "        s2=abs(s1)*1/2 #I then define s2 to be the absolute value of our s1 variable divided by 2\n",
    "    else:\n",
    "        return s2 #when i=n, I have our function return the value of s2\n",
    "polygarea([(2,0),(1,math.sqrt(3)),(0,0)])\n",
    "polygarea(((0,0),(2,0),(2,2),(0,2)))"
   ]
  },
  {
   "cell_type": "code",
   "execution_count": null,
   "metadata": {
    "collapsed": true
   },
   "outputs": [],
   "source": []
  }
 ],
 "metadata": {
  "kernelspec": {
   "display_name": "Python 3",
   "language": "python",
   "name": "python3"
  },
  "language_info": {
   "codemirror_mode": {
    "name": "ipython",
    "version": 3
   },
   "file_extension": ".py",
   "mimetype": "text/x-python",
   "name": "python",
   "nbconvert_exporter": "python",
   "pygments_lexer": "ipython3",
   "version": "3.4.3"
  }
 },
 "nbformat": 4,
 "nbformat_minor": 0
}
