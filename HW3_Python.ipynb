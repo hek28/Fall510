{
 "cells": [
  {
   "cell_type": "markdown",
   "metadata": {},
   "source": [
    "# Harrison Katz "
   ]
  },
  {
   "cell_type": "markdown",
   "metadata": {},
   "source": [
    "# Assignment 3"
   ]
  },
  {
   "cell_type": "markdown",
   "metadata": {},
   "source": [
    "# 1"
   ]
  },
  {
   "cell_type": "code",
   "execution_count": 9,
   "metadata": {
    "collapsed": false
   },
   "outputs": [
    {
     "name": "stdout",
     "output_type": "stream",
     "text": [
      "****\n",
      "***\n",
      "**\n",
      "*\n",
      "************\n",
      "**\n"
     ]
    }
   ],
   "source": [
    "def histo(list_of_numbers):\n",
    "    \"\"\"This is a function denoted histo that produces a 'histogram' based off of a designated list of numbers\n",
    "    Parameters:\n",
    "    list_of_numbers= list of integers\"\"\"\n",
    "    for x in list_of_numbers: #For each number in our list of numbers that are greater than or equal to zero, I have python print the number*'*'\n",
    "        if x>=0:\n",
    "            print(x*'*')\n",
    "            list_of_numbers.pop(0) #then, I have python remove the 0th entry using the pop function\n",
    "            return histo(list_of_numbers) #finally, I call upon the function again with the return command and our newly edited list of numbers\n",
    "        else: # this is my attempt at defensive coding which tells python what to do if the number in the list isn't greater than or equal to zero \n",
    "            list_of_numbers.pop(0) #I just use the pop function to remove the troublesome item and then the return command to call upon the function again\n",
    "            return histo(list_of_numbers)\n",
    "histo([4,3,2,1,12,-9,-3,2])"
   ]
  },
  {
   "cell_type": "markdown",
   "metadata": {},
   "source": [
    "# 2"
   ]
  },
  {
   "cell_type": "code",
   "execution_count": 10,
   "metadata": {
    "collapsed": false
   },
   "outputs": [
    {
     "name": "stdout",
     "output_type": "stream",
     "text": [
      "[10]\n"
     ]
    }
   ],
   "source": [
    "def maxoflist(list_of_n):\n",
    "    \"\"\"This is a function called maxoflist which gives us the max element of an arbitrarily long (but still finite) list of numbers\n",
    "    Parameters:\n",
    "    list_of_n=list of numbers (integer, float)\"\"\"\n",
    "    n=len(list_of_n)#I start by defining n to be the length of the total list\n",
    "    if n>1: #then, while the length is greater than 1, I compare the 0th entry with the n-1 entry to see which is larger\n",
    "        if list_of_n[0]<= list_of_n[n-1]: #using the if command and the pop function, I have python remove the 0th entry if it is less than or equal to the n-1 entry \n",
    "            list_of_n.pop(0)\n",
    "        else: #otherwise, I remove the n-1 entry\n",
    "            list_of_n.pop(n-1)\n",
    "        return maxoflist(list_of_n)#I then use the return command ot call on the function again with our newly edited list  \n",
    "    else:#when n is no longer greater than 1, I print the result\n",
    "        print(list_of_n)\n",
    "maxoflist([2,3,4,5,6,10,9,1])"
   ]
  },
  {
   "cell_type": "markdown",
   "metadata": {},
   "source": [
    "# 3"
   ]
  },
  {
   "cell_type": "code",
   "execution_count": 7,
   "metadata": {
    "collapsed": false
   },
   "outputs": [
    {
     "name": "stdout",
     "output_type": "stream",
     "text": [
      "[5, 4, 4, 28]\n"
     ]
    }
   ],
   "source": [
    "def mapping(l1):\n",
    "    \"\"\"This is a function called mapping which takes a list and produces a new list with each entry being the corresponding lengths of the first list\n",
    "    Parameters:\n",
    "    l1=list\"\"\"\n",
    "    n1=[0] #I start by defining our new list n1 and giving it 0 as the first entry\n",
    "    while len(l1)>=1: #then, while the length of our original list is greater than or equal to 1, I assign the variable x to the length of the 0th entry of our original list\n",
    "        x=len(l1[0])\n",
    "        n1.append(x) #here I add x (which equals the length of the 0th entry) to our new list\n",
    "        l1.pop(0)#and then I use the pop function on our original list to get rid of the 0th entry\n",
    "    else:\n",
    "        n1.pop(0)#then, when the length of our original list is 0, i remove the first element from our numbered list (which i had put as a zero) and print the results\n",
    "        print(n1)\n",
    "mapping(['funny','cool','cats','what an interesting function'])        "
   ]
  },
  {
   "cell_type": "markdown",
   "metadata": {},
   "source": [
    "# 4"
   ]
  },
  {
   "cell_type": "code",
   "execution_count": 11,
   "metadata": {
    "collapsed": false
   },
   "outputs": [
    {
     "name": "stdout",
     "output_type": "stream",
     "text": [
      "['kjfkldsahfkjsadfhksadjflksdjklfsjlfk']\n"
     ]
    }
   ],
   "source": [
    "def longestword(list1):\n",
    "    \"\"\"this is a function that takes a list of words and returns the longest one\n",
    "    Parameters:\n",
    "    list1=list\"\"\"\n",
    "    n=len(list1)#first i define the length of the list to the variable n\n",
    "    if n>1: #then if the length of n>1 (i.e. there's more than one word in our list) I have python start comparing the lengths of the first and last entries in our list\n",
    "        #and removing the entry with the smaller length (I remove the 0th entry if it has equal length to the n-1 entry as well)\n",
    "        if len(list1[0])<=len(list1[n-1]):\n",
    "            list1.pop(0)\n",
    "        else:\n",
    "            list1.pop(n-1)\n",
    "        return longestword(list1) #I then use the return command to call upon the function again after the smaller (or equal) of the two elements has been removed\n",
    "    else: #when we only have one word left in the list, I print the result \n",
    "        print(list1)\n",
    "longestword(['kjfkldsahfkjsadfhksadjflksdjklfsjlfk','funny','group','ssdjfklasjdkljdsaklf','thinking','for','not so much'])"
   ]
  },
  {
   "cell_type": "markdown",
   "metadata": {},
   "source": [
    "# 5"
   ]
  },
  {
   "cell_type": "code",
   "execution_count": 1,
   "metadata": {
    "collapsed": false
   },
   "outputs": [
    {
     "name": "stdout",
     "output_type": "stream",
     "text": [
      "['piggy', 'friendly', 'qweuiou']\n"
     ]
    }
   ],
   "source": [
    "def longerword(list_of_words,n):\n",
    "    \"\"\"this is a function denoted longer word which takes a list of words and an integer and returns a list of the words that are longer than the integer\n",
    "    Parameters:\n",
    "    list_of_words=list\n",
    "    n=integer\"\"\"\n",
    "    for x in list_of_words:#I did this one by having python take the length of each word in our list and using the if command, for those with length less than our integer n\n",
    "        #i used the .remove command to remove said word from our list\n",
    "        if len(x)<=n:\n",
    "            list_of_words.remove(x)\n",
    "            return longerword(list_of_words,n) #this calls the function again which repeats the process until all words that have length less than n are removed\n",
    "    print(list_of_words)\n",
    "longerword(['cat','dog','piggy','fun','friendly','qweuiou'],4)\n"
   ]
  },
  {
   "cell_type": "markdown",
   "metadata": {},
   "source": [
    "# 6"
   ]
  },
  {
   "cell_type": "code",
   "execution_count": 6,
   "metadata": {
    "collapsed": false
   },
   "outputs": [
    {
     "name": "stdout",
     "output_type": "stream",
     "text": [
      "true\n"
     ]
    }
   ],
   "source": [
    "def palindrome2(string):\n",
    "    \"\"\"This is a function called palindrome2 that tells us whether a given string is a palindrome sans spacing, punctuation, or capitalization\n",
    "    Parameters:\n",
    "    String= String of characters\"\"\"\n",
    "    alphabet=['a','b','c','d','e','f','g','h','i','j','k','l','m','n','o','p','q','r','s','t','u','v','w','x','y','z']\n",
    "    string=string.lower() #here we are turning all of the letters in our string to lowercase ones\n",
    "    string=list(string) #here we are turning out string into a list using the list function \n",
    "    y=[s for s in string if s in alphabet] #here we are defining y to be a new list consisting only of the characters in our string that are also in alphabet \n",
    "    z=(y[::-1]) #here we are creating a new list denoted z which is the reverse of y\n",
    "    if z==y:\n",
    "        print('true')\n",
    "    else:\n",
    "        print('false')\n",
    "        #then, if z is equal to y, we print true\n",
    "    \n",
    "palindrome2('Was it a rat I saw?')"
   ]
  },
  {
   "cell_type": "markdown",
   "metadata": {
    "collapsed": true
   },
   "source": [
    "# 7"
   ]
  },
  {
   "cell_type": "code",
   "execution_count": 12,
   "metadata": {
    "collapsed": false
   },
   "outputs": [
    {
     "name": "stdout",
     "output_type": "stream",
     "text": [
      "true\n"
     ]
    }
   ],
   "source": [
    "def pangram(str):\n",
    "    \"\"\"This is a function named pangram that tells us whether or not a string of characters contains every letter in the alphabet.\n",
    "    Parameters:\n",
    "    Str=String\"\"\"\n",
    "    x=str.lower() #here i'm using the lower function to transform all the letters in our string to lower case ones\n",
    "    y=set(list(x)) #here i'm using the set and list functions to first turn out string into a list so that we can look at each seperate character as an entry in a list\n",
    "    #and then the set function to get rid of duplicate letters\n",
    "    alphabet=['a','b','c','d','e','f','g','h','i','j','k','l','m','n','o','p','q','r','s','t','u','v','w','x','y','z']\n",
    "    if set(alphabet).intersection(y)==set(alphabet): #I then take the intersection of the set alphabet with our variable y and print \"true\" if the intersection of the two sets is equal to our set alphabet and 'false' otherwise\n",
    "        print('true')\n",
    "    else:\n",
    "        print('false')\n",
    "pangram('testing is hard c a bqwertyuiopasdfghjklzxmnbvc')\n",
    "\n"
   ]
  },
  {
   "cell_type": "code",
   "execution_count": null,
   "metadata": {
    "collapsed": true
   },
   "outputs": [],
   "source": []
  }
 ],
 "metadata": {
  "kernelspec": {
   "display_name": "Python 3",
   "language": "python",
   "name": "python3"
  },
  "language_info": {
   "codemirror_mode": {
    "name": "ipython",
    "version": 3
   },
   "file_extension": ".py",
   "mimetype": "text/x-python",
   "name": "python",
   "nbconvert_exporter": "python",
   "pygments_lexer": "ipython3",
   "version": "3.4.3"
  }
 },
 "nbformat": 4,
 "nbformat_minor": 0
}
