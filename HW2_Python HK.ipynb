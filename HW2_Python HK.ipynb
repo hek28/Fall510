{
 "cells": [
  {
   "cell_type": "markdown",
   "metadata": {},
   "source": [
    "## Problem 1"
   ]
  },
  {
   "cell_type": "markdown",
   "metadata": {},
   "source": [
    "SW: writing code to specification is important, and your functions need to return values, not just print to screen. these modifications will allow your functions to be predictable and to work with each other."
   ]
  },
  {
   "cell_type": "code",
   "execution_count": 1,
   "metadata": {
    "collapsed": false
   },
   "outputs": [
    {
     "data": {
      "text/plain": [
       "[0, 1, 1, 2, 3, 5, 8, 13, 21, 34, 55, 89, 144, 233, 377, 610, 987]"
      ]
     },
     "execution_count": 1,
     "metadata": {},
     "output_type": "execute_result"
    }
   ],
   "source": [
    "def fb(n):\n",
    "    \"\"\"this is a function fb which prints all the Fibonacci numbers less than our parameter 'n'\n",
    "    Parameter:\n",
    "    n=float or integer\n",
    "    \n",
    "    output:\n",
    "    fibonacci=list\"\"\"    \n",
    "    a, b = 0, 1\n",
    "    fibonacci=[]\n",
    "    while a < n:\n",
    "        fibonacci=fibonacci+[a]\n",
    "        a, b = b, a+b\n",
    "    return fibonacci\n",
    "fb(1000)\n",
    "##the only change I made from the fib we were given in the class notes was to remove the final command to print a \n",
    "## since, unless n was one of the fib numbers, this would give us a fib that was actually greater than n\n"
   ]
  },
  {
   "cell_type": "markdown",
   "metadata": {},
   "source": [
    "## Problem 2"
   ]
  },
  {
   "cell_type": "code",
   "execution_count": 7,
   "metadata": {
    "collapsed": false
   },
   "outputs": [
    {
     "data": {
      "text/plain": [
       "4"
      ]
     },
     "execution_count": 7,
     "metadata": {},
     "output_type": "execute_result"
    }
   ],
   "source": [
    "#2\n",
    "def mymax(x,y):\n",
    "    \"\"\"this is a function mymax that gives us the max of two values i.e. it takes two numbers and tells us which is the greater\n",
    "        The parameters are x and y which both are either integers or floats\"\"\"\n",
    "    if x<y:\n",
    "        return y\n",
    "    if y<x:\n",
    "        return x\n",
    "    if x==y:\n",
    "        return x\n",
    "\n",
    "\n",
    "\n",
    "mymax(2,4)\n",
    "\n",
    "# SW: you handle the special case in which x and y are equal, but this is not strictly\n",
    "# necessary. if you consider a single comparison x < y, in the case that x == y, then\n",
    "# x < y false and you will return y. \n",
    "# lost points: your function is not returning anything, just printing to the screen."
   ]
  },
  {
   "cell_type": "markdown",
   "metadata": {},
   "source": [
    "## Problem 3"
   ]
  },
  {
   "cell_type": "code",
   "execution_count": 43,
   "metadata": {
    "collapsed": false
   },
   "outputs": [
    {
     "data": {
      "text/plain": [
       "4"
      ]
     },
     "execution_count": 43,
     "metadata": {},
     "output_type": "execute_result"
    }
   ],
   "source": [
    "#3\n",
    "def max_of_three(x,y,z):\n",
    "    \"\"\"this is a function that gives us the max of three values.\n",
    "    parameters:\n",
    "    x,y,z = integer or float \"\"\"\n",
    "    if x<y<z:\n",
    "        return z\n",
    "    if y<x<z:\n",
    "        return z\n",
    "    if y==x<z:\n",
    "        return z\n",
    "    if y==x==z:\n",
    "        return z\n",
    "    if x<y==z:\n",
    "        return z\n",
    "    if y<x==z:\n",
    "        return z\n",
    "    if z<y<x:\n",
    "        return x\n",
    "    if y<z<x:\n",
    "        return x\n",
    "    if y==z<x:\n",
    "        return x\n",
    "    if z<x<y:\n",
    "        return y\n",
    "    if x<z<y:\n",
    "        return y\n",
    "    if x==z<y:\n",
    "        return y\n",
    "    if z<x==y:\n",
    "        return y\n",
    "        \n",
    "max_of_three(2,3,4)\n",
    "## I tackled this and problem 2 first so i'm very confident that there is a more clever way to do this, but this code still gets the job done\n",
    "\n",
    "# SW: indeed, this type of code will be hard to debug if there are issues, and it is far too\n",
    "# verbose. you need three comparisons: x to y, x to z, and y to z. you can do the rest with\n",
    "# conditional logic.\n",
    "# lost points: function doesn't return anything."
   ]
  },
  {
   "cell_type": "markdown",
   "metadata": {},
   "source": [
    "## Problem 4"
   ]
  },
  {
   "cell_type": "code",
   "execution_count": 11,
   "metadata": {
    "collapsed": false
   },
   "outputs": [
    {
     "data": {
      "text/plain": [
       "11"
      ]
     },
     "execution_count": 11,
     "metadata": {},
     "output_type": "execute_result"
    }
   ],
   "source": [
    "#4\n",
    "def mylen(s):\n",
    "    \"\"\"this is a function that computes the length of a given list or string.\n",
    "    Parameters:\n",
    "    s=list or string\"\"\" \n",
    "    #It does so by returning the value of 1 for each item of an object using the index of the string or list\n",
    "    #i.e. for each item in s, there is an index number attached to it, so our function returns a +1 until we reach the last index and then we get the value 0\n",
    "    if s=='':\n",
    "        return 0\n",
    "    else:\n",
    "        return 1+mylength2(s[1:])\n",
    "    \n",
    "mylen('so much fun')\n",
    "\n",
    "# SW: lost points: you were to write a function named mylen(), not mylength2(). it is very \n",
    "# important to be able to write code to specification, particularly in a collaborative \n",
    "# environment."
   ]
  },
  {
   "cell_type": "markdown",
   "metadata": {},
   "source": [
    "## Problem 5"
   ]
  },
  {
   "cell_type": "code",
   "execution_count": 6,
   "metadata": {
    "collapsed": false
   },
   "outputs": [
    {
     "ename": "NameError",
     "evalue": "name 'f' is not defined",
     "output_type": "error",
     "traceback": [
      "\u001b[0;31m---------------------------------------------------------------------------\u001b[0m",
      "\u001b[0;31mNameError\u001b[0m                                 Traceback (most recent call last)",
      "\u001b[0;32m<ipython-input-6-6f9f801c089d>\u001b[0m in \u001b[0;36m<module>\u001b[0;34m()\u001b[0m\n\u001b[1;32m     14\u001b[0m \u001b[0mvowelchecker\u001b[0m\u001b[0;34m(\u001b[0m\u001b[0;34m'A'\u001b[0m\u001b[0;34m)\u001b[0m\u001b[0;34m\u001b[0m\u001b[0m\n\u001b[1;32m     15\u001b[0m \u001b[0mvowelchecker\u001b[0m\u001b[0;34m(\u001b[0m\u001b[0;34m'b'\u001b[0m\u001b[0;34m)\u001b[0m\u001b[0;34m\u001b[0m\u001b[0m\n\u001b[0;32m---> 16\u001b[0;31m \u001b[0mvowelchecker\u001b[0m\u001b[0;34m(\u001b[0m\u001b[0mprint\u001b[0m\u001b[0;34m(\u001b[0m\u001b[0mf\u001b[0m\u001b[0;34m)\u001b[0m\u001b[0;34m)\u001b[0m\u001b[0;34m\u001b[0m\u001b[0m\n\u001b[0m\u001b[1;32m     17\u001b[0m \u001b[0;34m\u001b[0m\u001b[0m\n\u001b[1;32m     18\u001b[0m \u001b[0;31m# SW: lost points: this function is not returning anything. this function should return\u001b[0m\u001b[0;34m\u001b[0m\u001b[0;34m\u001b[0m\u001b[0m\n",
      "\u001b[0;31mNameError\u001b[0m: name 'f' is not defined"
     ]
    }
   ],
   "source": [
    "#5\n",
    "def vowelchecker(character):\n",
    "    \"\"\"this is a function that lets us know if a character is a vowel.\n",
    "    Parameters:\n",
    "    character= character\"\"\"\n",
    "    #This uses the conditional 'if else' commands to see if a character is in a desginated list. If it is, we print true, if it isn't, we print false\n",
    "    vowel=['a','e','i','o','u','y','A','E','I','O','U','Y']\n",
    "    for i in character:\n",
    "        if i in vowel:\n",
    "            return True\n",
    "        else:\n",
    "            return False\n",
    "\n",
    "vowelchecker('A')\n",
    "vowelchecker('b')\n",
    "\n",
    "\n",
    "# SW: lost points: this function is not returning anything. this function should return\n",
    "# a Boolean, i.e., True/False, not a string 'True!' or 'False'.\n",
    "# because you don't return anything, class is NoneType.\n"
   ]
  },
  {
   "cell_type": "markdown",
   "metadata": {},
   "source": [
    "## Problem 6"
   ]
  },
  {
   "cell_type": "code",
   "execution_count": 13,
   "metadata": {
    "collapsed": false
   },
   "outputs": [
    {
     "data": {
      "text/plain": [
       "'tothohisos isos fofunon'"
      ]
     },
     "execution_count": 13,
     "metadata": {},
     "output_type": "execute_result"
    }
   ],
   "source": [
    "#6\n",
    "        \n",
    "def translate(text):\n",
    "    \"\"\"this is a function that, when given a list of characters, replaces said characters with the character+o+characters and then prints the result\"\"\"\n",
    "    for ch in ['q','w','r','t','p','s','d','f','g','h','j','k','l','z','x','c','v','b','n','m','Q','W','R','T','P','S','D','F','G','H','J','K','L','Z','X','C','V','B','N','M']:\n",
    "        if ch in text:\n",
    "            text = text.replace(ch,ch+\"o\"+ch)\n",
    "    return text.replace(ch,ch+\"o\"+ch)\n",
    "   \n",
    "translate('this is fun')            \n",
    "\n",
    "# SW: is it easier to keep track of a list of consonants or vowels? the list of vowels is\n",
    "# shorter, and you can use logic to do the same comparisons.\n",
    "# lost points: function doesn't return anything"
   ]
  },
  {
   "cell_type": "markdown",
   "metadata": {},
   "source": [
    "## Problem 7"
   ]
  },
  {
   "cell_type": "code",
   "execution_count": 6,
   "metadata": {
    "collapsed": false
   },
   "outputs": [
    {
     "data": {
      "text/plain": [
       "22"
      ]
     },
     "execution_count": 6,
     "metadata": {},
     "output_type": "execute_result"
    }
   ],
   "source": [
    "#7\n",
    "def Sum(lst):\n",
    "    \"\"\"this is a function that gives us the sum of elements in a list\n",
    "    Parameters:\n",
    "    lst=list\"\"\"\n",
    "    b=0\n",
    "    n=len(lst)\n",
    "    while n>0:\n",
    "        b=b+lst[0]\n",
    "        lst.pop(0)\n",
    "        n=len(lst)\n",
    "    return b\n",
    "Sum([2,5,6,9])\n",
    "\n",
    "\n",
    "\n",
    "# SW: this is much more complicated than it needs to be. these functions are easily written\n",
    "# with loops.\n",
    "# lost points: you were to write functions named sum() and multiply(), respectively. \n",
    "# again, writing code to spec is important (provided a spec is given). and, your functions \n",
    "# aren't returning anything, just printing."
   ]
  },
  {
   "cell_type": "code",
   "execution_count": 7,
   "metadata": {
    "collapsed": false
   },
   "outputs": [
    {
     "data": {
      "text/plain": [
       "8"
      ]
     },
     "execution_count": 7,
     "metadata": {},
     "output_type": "execute_result"
    }
   ],
   "source": [
    "#7.2\n",
    "def multiply(lst):\n",
    "    n=len(lst)\n",
    "    b=1\n",
    "    while n>0:\n",
    "        b=b*lst[0]\n",
    "        lst.pop(0)\n",
    "        n=len(lst)\n",
    "    return b\n",
    "multiply([1,2,4])\n",
    "        "
   ]
  },
  {
   "cell_type": "markdown",
   "metadata": {},
   "source": [
    "## Problem 8"
   ]
  },
  {
   "cell_type": "code",
   "execution_count": 40,
   "metadata": {
    "collapsed": false
   },
   "outputs": [
    {
     "data": {
      "text/plain": [
       "'tsalb a si tnemngissa siht'"
      ]
     },
     "execution_count": 40,
     "metadata": {},
     "output_type": "execute_result"
    }
   ],
   "source": [
    "#8\n",
    "def reverse(s):\n",
    "    \"\"\"this function prints the reverse of a string.\n",
    "    Parameters:\n",
    "    S= string\"\"\"\n",
    "    # It just uses slice steps to reverse a string. It does so by starting at the beginning of the string, ending at the beginning of the string and taking -1 to be the step and then printing the result. \n",
    "    s=s[::-1]\n",
    "    return s\n",
    "\n",
    "reverse('this assignment is a blast')\n",
    "\n",
    "# SW: very concise implementation.\n",
    "# lost points: you were to write a function named reverse(), not wordreverse(). function \n",
    "# doesn't return anything."
   ]
  },
  {
   "cell_type": "markdown",
   "metadata": {},
   "source": [
    "## Problem 9"
   ]
  },
  {
   "cell_type": "code",
   "execution_count": 33,
   "metadata": {
    "collapsed": false
   },
   "outputs": [
    {
     "data": {
      "text/plain": [
       "True"
      ]
     },
     "execution_count": 33,
     "metadata": {},
     "output_type": "execute_result"
    }
   ],
   "source": [
    "#9\n",
    "def is_palindrome(s):\n",
    "    \"\"\"this function takes a string and gives us True if the string is a palindrome and false otherwise\n",
    "    Parameters:\n",
    "    S = string\n",
    "    p = string \"\"\"\n",
    "    #(based off the method we used in problem 8), sets a variable p equal to the reversed string and prints true if p==s and false if they're not equal\n",
    "    p=s[::-1]\n",
    "    if s==p:\n",
    "        return True\n",
    "    else:\n",
    "        return False\n",
    "    \n",
    "is_palindrome('sos')\n",
    "\n",
    "\n",
    "# SW: lost points: not actually returning anything."
   ]
  },
  {
   "cell_type": "markdown",
   "metadata": {},
   "source": [
    "## Problem 10"
   ]
  },
  {
   "cell_type": "code",
   "execution_count": 31,
   "metadata": {
    "collapsed": false
   },
   "outputs": [
    {
     "data": {
      "text/plain": [
       "False"
      ]
     },
     "execution_count": 31,
     "metadata": {},
     "output_type": "execute_result"
    }
   ],
   "source": [
    "#10\n",
    "def is_member(x,list):\n",
    "    \"\"\"this is a function that uses the if then else conditional to check if a value x is in a list of values and prints true if it is and false if it is not\"\"\"\n",
    "    if x in list:\n",
    "        return True\n",
    "    else:\n",
    "        return False\n",
    "\n",
    "l=[7,2,3]        \n",
    "is_member(7,l) \n",
    "is_member('dog','cat')\n",
    "is_member('dog',['cat','dog'])\n",
    "\n",
    "is_member('dog','cat')\n",
    "\n",
    "# SW: lost points: not actually returning anything"
   ]
  },
  {
   "cell_type": "markdown",
   "metadata": {},
   "source": [
    "## Problem 11"
   ]
  },
  {
   "cell_type": "code",
   "execution_count": 22,
   "metadata": {
    "collapsed": false
   },
   "outputs": [
    {
     "name": "stdout",
     "output_type": "stream",
     "text": [
      "True\n",
      "True\n",
      "True\n"
     ]
    }
   ],
   "source": [
    "#11\n",
    "def overlapping(l1,l2):\n",
    "    \"\"\"this is a function that takes two lists, turns them into two seperate sets using the set function and then finds their intersection. If the intersection is the empty set, we print false, if it's anything but that, we print true\"\"\"\n",
    "    setl2=set(l2)\n",
    "    setl1=set(l1)\n",
    "    result=setl2.intersection(setl1)\n",
    "    if result==set():\n",
    "        return False\n",
    "    else:\n",
    "        return True\n",
    "common_elements2([5,4,4,3,2],[2,3,4,5,6])\n",
    "yy=[1,2,3,4,5]\n",
    "hy=['cat',2,8,9]\n",
    "common_elements2(yy,hy)\n",
    "\n",
    "# SW: lost points: you were to write a function named overlapping(). and again, function \n",
    "# doesn't return anything."
   ]
  },
  {
   "cell_type": "markdown",
   "metadata": {},
   "source": [
    "## Problem 12"
   ]
  },
  {
   "cell_type": "code",
   "execution_count": 8,
   "metadata": {
    "collapsed": false
   },
   "outputs": [
    {
     "data": {
      "text/plain": [
       "'jjj'"
      ]
     },
     "execution_count": 8,
     "metadata": {},
     "output_type": "execute_result"
    }
   ],
   "source": [
    "#12\n",
    "def generate_n_chars(char,number):\n",
    "    \"\"\"this is a function that takes a number and a character and produces n of said character. It does so by taking a specified number\n",
    "    and uses the while command to add +1 of the character while simultaneously subtracting one from the number until the number =1 and then prints the variable whose value is the sum of characters\"\"\"\n",
    "    a=number\n",
    "    b=char\n",
    "    c=abs(round(a))\n",
    "    while c!=1:\n",
    "        c=c-1\n",
    "        b=b+char\n",
    "    return(b)\n",
    "# I added the variable c to equal the rounded absolute value of the number to deal with cases where someone entered a negative number or a fraction\n",
    "        \n",
    "generate_n_chars('j',-3.2)\n",
    "\n",
    "# SW: function doesn't return anything"
   ]
  },
  {
   "cell_type": "code",
   "execution_count": null,
   "metadata": {
    "collapsed": true
   },
   "outputs": [],
   "source": []
  }
 ],
 "metadata": {
  "kernelspec": {
   "display_name": "Python 3",
   "language": "python",
   "name": "python3"
  },
  "language_info": {
   "codemirror_mode": {
    "name": "ipython",
    "version": 3
   },
   "file_extension": ".py",
   "mimetype": "text/x-python",
   "name": "python",
   "nbconvert_exporter": "python",
   "pygments_lexer": "ipython3",
   "version": "3.4.3"
  }
 },
 "nbformat": 4,
 "nbformat_minor": 0
}
